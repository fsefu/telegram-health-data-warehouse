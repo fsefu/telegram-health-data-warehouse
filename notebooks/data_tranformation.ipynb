{
 "cells": [
  {
   "cell_type": "code",
   "execution_count": 1,
   "metadata": {},
   "outputs": [],
   "source": [
    "# Import pandas\n",
    "import pandas as pd\n",
    "import os\n",
    "import sys\n",
    "sys.path.append(os.path.abspath(os.path.join(os.getcwd(), '../src')))\n",
    "sys.path.append(os.path.abspath(os.path.join(os.getcwd(), '../scripts')))\n",
    "import logging\n"
   ]
  },
  {
   "cell_type": "code",
   "execution_count": 2,
   "metadata": {},
   "outputs": [],
   "source": [
    "\n",
    "# Configure logging\n",
    "logging.basicConfig(level=logging.INFO, format='%(asctime)s - %(levelname)s - %(message)s')\n"
   ]
  },
  {
   "cell_type": "code",
   "execution_count": 3,
   "metadata": {},
   "outputs": [],
   "source": [
    "raw_data = pd.read_csv(\"../data/telegram_data.csv\")\n"
   ]
  },
  {
   "cell_type": "code",
   "execution_count": 4,
   "metadata": {},
   "outputs": [],
   "source": [
    "\n",
    "# Create an instance of DataCleaning\n",
    "from data_cleaning.data_cleaning import DataCleaning\n",
    "\n",
    "\n",
    "data_cleaner = DataCleaning(raw_data)\n"
   ]
  },
  {
   "cell_type": "code",
   "execution_count": 6,
   "metadata": {},
   "outputs": [
    {
     "name": "stderr",
     "output_type": "stream",
     "text": [
      "2024-10-11 11:05:28,576 - INFO - Removing unwanted rows...\n",
      "2024-10-11 11:05:28,583 - INFO - Filling missing 'views' values with average of neighbors...\n",
      "2024-10-11 11:05:28,592 - INFO - Standardizing formats...\n",
      "2024-10-11 11:05:28,595 - INFO - Data cleaned successfully.\n"
     ]
    },
    {
     "data": {
      "text/html": [
       "<div>\n",
       "<style scoped>\n",
       "    .dataframe tbody tr th:only-of-type {\n",
       "        vertical-align: middle;\n",
       "    }\n",
       "\n",
       "    .dataframe tbody tr th {\n",
       "        vertical-align: top;\n",
       "    }\n",
       "\n",
       "    .dataframe thead th {\n",
       "        text-align: right;\n",
       "    }\n",
       "</style>\n",
       "<table border=\"1\" class=\"dataframe\">\n",
       "  <thead>\n",
       "    <tr style=\"text-align: right;\">\n",
       "      <th></th>\n",
       "      <th>post_id</th>\n",
       "      <th>channel_name</th>\n",
       "      <th>channel_username</th>\n",
       "      <th>author</th>\n",
       "      <th>message_text</th>\n",
       "      <th>views</th>\n",
       "      <th>timestamp</th>\n",
       "      <th>image_urls</th>\n",
       "      <th>image_paths</th>\n",
       "      <th>source</th>\n",
       "    </tr>\n",
       "  </thead>\n",
       "  <tbody>\n",
       "    <tr>\n",
       "      <th>4</th>\n",
       "      <td>EAHCI_8</td>\n",
       "      <td>ETHIO-AMERICAN MEDICAL TRAININGS( CPD ) &amp; HEAL...</td>\n",
       "      <td>EAHCI</td>\n",
       "      <td>NaN</td>\n",
       "      <td>አማራ ክልል ባህር_ዳር--------------------------------...</td>\n",
       "      <td>2200.0</td>\n",
       "      <td>2021-04-01 15:19:59+00:00</td>\n",
       "      <td>NaN</td>\n",
       "      <td>NaN</td>\n",
       "      <td>Telegram</td>\n",
       "    </tr>\n",
       "    <tr>\n",
       "      <th>6</th>\n",
       "      <td>EAHCI_10</td>\n",
       "      <td>ETHIO-AMERICAN MEDICAL TRAININGS( CPD ) &amp; HEAL...</td>\n",
       "      <td>EAHCI</td>\n",
       "      <td>NaN</td>\n",
       "      <td>https://m.facebook.com/groups/293768157845729/...</td>\n",
       "      <td>2300.0</td>\n",
       "      <td>2021-04-04 10:58:11+00:00</td>\n",
       "      <td>NaN</td>\n",
       "      <td>NaN</td>\n",
       "      <td>Telegram</td>\n",
       "    </tr>\n",
       "    <tr>\n",
       "      <th>7</th>\n",
       "      <td>EAHCI_11</td>\n",
       "      <td>ETHIO-AMERICAN MEDICAL TRAININGS( CPD ) &amp; HEAL...</td>\n",
       "      <td>EAHCI</td>\n",
       "      <td>NaN</td>\n",
       "      <td>የስልጠና ጥሪ በሐዋሳ ከተማ(Basic Obstetrics Ultrasound ...</td>\n",
       "      <td>2400.0</td>\n",
       "      <td>2021-04-04 18:38:48+00:00</td>\n",
       "      <td>NaN</td>\n",
       "      <td>NaN</td>\n",
       "      <td>Telegram</td>\n",
       "    </tr>\n",
       "    <tr>\n",
       "      <th>8</th>\n",
       "      <td>EAHCI_12</td>\n",
       "      <td>ETHIO-AMERICAN MEDICAL TRAININGS( CPD ) &amp; HEAL...</td>\n",
       "      <td>EAHCI</td>\n",
       "      <td>NaN</td>\n",
       "      <td>የስልጠና ጥሪ በአዲስ አበባ(Basic Obstetrics Ultrasound ...</td>\n",
       "      <td>2400.0</td>\n",
       "      <td>2021-04-09 12:03:09+00:00</td>\n",
       "      <td>NaN</td>\n",
       "      <td>NaN</td>\n",
       "      <td>Telegram</td>\n",
       "    </tr>\n",
       "    <tr>\n",
       "      <th>9</th>\n",
       "      <td>EAHCI_13</td>\n",
       "      <td>ETHIO-AMERICAN MEDICAL TRAININGS( CPD ) &amp; HEAL...</td>\n",
       "      <td>EAHCI</td>\n",
       "      <td>NaN</td>\n",
       "      <td>የስልጠና ጥሪ በወሎ ደሴ(Basic Obstetrics Ultrasound )-...</td>\n",
       "      <td>2500.0</td>\n",
       "      <td>2021-04-10 16:10:15+00:00</td>\n",
       "      <td>NaN</td>\n",
       "      <td>NaN</td>\n",
       "      <td>Telegram</td>\n",
       "    </tr>\n",
       "  </tbody>\n",
       "</table>\n",
       "</div>"
      ],
      "text/plain": [
       "    post_id                                       channel_name  \\\n",
       "4   EAHCI_8  ETHIO-AMERICAN MEDICAL TRAININGS( CPD ) & HEAL...   \n",
       "6  EAHCI_10  ETHIO-AMERICAN MEDICAL TRAININGS( CPD ) & HEAL...   \n",
       "7  EAHCI_11  ETHIO-AMERICAN MEDICAL TRAININGS( CPD ) & HEAL...   \n",
       "8  EAHCI_12  ETHIO-AMERICAN MEDICAL TRAININGS( CPD ) & HEAL...   \n",
       "9  EAHCI_13  ETHIO-AMERICAN MEDICAL TRAININGS( CPD ) & HEAL...   \n",
       "\n",
       "  channel_username author                                       message_text  \\\n",
       "4            EAHCI    NaN  አማራ ክልል ባህር_ዳር--------------------------------...   \n",
       "6            EAHCI    NaN  https://m.facebook.com/groups/293768157845729/...   \n",
       "7            EAHCI    NaN  የስልጠና ጥሪ በሐዋሳ ከተማ(Basic Obstetrics Ultrasound ...   \n",
       "8            EAHCI    NaN  የስልጠና ጥሪ በአዲስ አበባ(Basic Obstetrics Ultrasound ...   \n",
       "9            EAHCI    NaN  የስልጠና ጥሪ በወሎ ደሴ(Basic Obstetrics Ultrasound )-...   \n",
       "\n",
       "    views                 timestamp image_urls image_paths    source  \n",
       "4  2200.0 2021-04-01 15:19:59+00:00        NaN         NaN  Telegram  \n",
       "6  2300.0 2021-04-04 10:58:11+00:00        NaN         NaN  Telegram  \n",
       "7  2400.0 2021-04-04 18:38:48+00:00        NaN         NaN  Telegram  \n",
       "8  2400.0 2021-04-09 12:03:09+00:00        NaN         NaN  Telegram  \n",
       "9  2500.0 2021-04-10 16:10:15+00:00        NaN         NaN  Telegram  "
      ]
     },
     "execution_count": 6,
     "metadata": {},
     "output_type": "execute_result"
    }
   ],
   "source": [
    "\n",
    "\n",
    "cleaned_data = data_cleaner.clean_data()\n",
    "cleaned_data.head()\n"
   ]
  }
 ],
 "metadata": {
  "kernelspec": {
   "display_name": ".venv",
   "language": "python",
   "name": "python3"
  },
  "language_info": {
   "codemirror_mode": {
    "name": "ipython",
    "version": 3
   },
   "file_extension": ".py",
   "mimetype": "text/x-python",
   "name": "python",
   "nbconvert_exporter": "python",
   "pygments_lexer": "ipython3",
   "version": "3.12.0"
  }
 },
 "nbformat": 4,
 "nbformat_minor": 2
}

{
 "cells": [
  {
   "cell_type": "code",
   "execution_count": 1,
   "metadata": {},
   "outputs": [],
   "source": [
    "# Import pandas\n",
    "import pandas as pd\n",
    "import os\n",
    "import sys\n",
    "sys.path.append(os.path.abspath(os.path.join(os.getcwd(), '../src')))\n",
    "sys.path.append(os.path.abspath(os.path.join(os.getcwd(), '../scripts')))\n",
    "sys.path.append(os.path.abspath(os.path.join(os.getcwd(), '../database')))\n",
    "\n",
    "import logging\n"
   ]
  },
  {
   "cell_type": "code",
   "execution_count": 2,
   "metadata": {},
   "outputs": [],
   "source": [
    "\n",
    "# Configure logging\n",
    "logging.basicConfig(level=logging.INFO, format='%(asctime)s - %(levelname)s - %(message)s')\n"
   ]
  },
  {
   "cell_type": "code",
   "execution_count": 3,
   "metadata": {},
   "outputs": [],
   "source": [
    "raw_data = pd.read_csv(\"../data/telegram_data.csv\")\n"
   ]
  },
  {
   "cell_type": "code",
   "execution_count": 4,
   "metadata": {},
   "outputs": [],
   "source": [
    "\n",
    "# Create an instance of DataCleaning\n",
    "from data_cleaning.data_cleaning import DataCleaning\n",
    "\n",
    "\n",
    "data_cleaner = DataCleaning(raw_data)\n"
   ]
  },
  {
   "cell_type": "code",
   "execution_count": 5,
   "metadata": {},
   "outputs": [
    {
     "name": "stderr",
     "output_type": "stream",
     "text": [
      "2024-10-11 14:23:10,865 - INFO - Removing unwanted rows...\n",
      "2024-10-11 14:23:10,871 - INFO - Filling missing 'views' values with average of neighbors...\n",
      "2024-10-11 14:23:10,927 - INFO - Standardizing formats...\n",
      "2024-10-11 14:23:10,927 - INFO - Data cleaned successfully.\n"
     ]
    },
    {
     "data": {
      "text/html": [
       "<div>\n",
       "<style scoped>\n",
       "    .dataframe tbody tr th:only-of-type {\n",
       "        vertical-align: middle;\n",
       "    }\n",
       "\n",
       "    .dataframe tbody tr th {\n",
       "        vertical-align: top;\n",
       "    }\n",
       "\n",
       "    .dataframe thead th {\n",
       "        text-align: right;\n",
       "    }\n",
       "</style>\n",
       "<table border=\"1\" class=\"dataframe\">\n",
       "  <thead>\n",
       "    <tr style=\"text-align: right;\">\n",
       "      <th></th>\n",
       "      <th>post_id</th>\n",
       "      <th>channel_name</th>\n",
       "      <th>channel_username</th>\n",
       "      <th>message_text</th>\n",
       "      <th>views</th>\n",
       "      <th>timestamp</th>\n",
       "      <th>image_urls</th>\n",
       "      <th>image_paths</th>\n",
       "      <th>source</th>\n",
       "    </tr>\n",
       "  </thead>\n",
       "  <tbody>\n",
       "    <tr>\n",
       "      <th>4</th>\n",
       "      <td>EAHCI_8</td>\n",
       "      <td>ETHIO-AMERICAN MEDICAL TRAININGS( CPD ) &amp; HEAL...</td>\n",
       "      <td>EAHCI</td>\n",
       "      <td>አማራ ክልል ባህር_ዳር--------------------------------...</td>\n",
       "      <td>2200.0</td>\n",
       "      <td>2021-04-01 15:19:59+00:00</td>\n",
       "      <td>[]</td>\n",
       "      <td>[]</td>\n",
       "      <td>Telegram</td>\n",
       "    </tr>\n",
       "    <tr>\n",
       "      <th>6</th>\n",
       "      <td>EAHCI_10</td>\n",
       "      <td>ETHIO-AMERICAN MEDICAL TRAININGS( CPD ) &amp; HEAL...</td>\n",
       "      <td>EAHCI</td>\n",
       "      <td>https://m.facebook.com/groups/293768157845729/...</td>\n",
       "      <td>2300.0</td>\n",
       "      <td>2021-04-04 10:58:11+00:00</td>\n",
       "      <td>[]</td>\n",
       "      <td>[]</td>\n",
       "      <td>Telegram</td>\n",
       "    </tr>\n",
       "    <tr>\n",
       "      <th>7</th>\n",
       "      <td>EAHCI_11</td>\n",
       "      <td>ETHIO-AMERICAN MEDICAL TRAININGS( CPD ) &amp; HEAL...</td>\n",
       "      <td>EAHCI</td>\n",
       "      <td>የስልጠና ጥሪ በሐዋሳ ከተማ(Basic Obstetrics Ultrasound ...</td>\n",
       "      <td>2400.0</td>\n",
       "      <td>2021-04-04 18:38:48+00:00</td>\n",
       "      <td>[]</td>\n",
       "      <td>[]</td>\n",
       "      <td>Telegram</td>\n",
       "    </tr>\n",
       "    <tr>\n",
       "      <th>8</th>\n",
       "      <td>EAHCI_12</td>\n",
       "      <td>ETHIO-AMERICAN MEDICAL TRAININGS( CPD ) &amp; HEAL...</td>\n",
       "      <td>EAHCI</td>\n",
       "      <td>የስልጠና ጥሪ በአዲስ አበባ(Basic Obstetrics Ultrasound ...</td>\n",
       "      <td>2400.0</td>\n",
       "      <td>2021-04-09 12:03:09+00:00</td>\n",
       "      <td>[]</td>\n",
       "      <td>[]</td>\n",
       "      <td>Telegram</td>\n",
       "    </tr>\n",
       "    <tr>\n",
       "      <th>9</th>\n",
       "      <td>EAHCI_13</td>\n",
       "      <td>ETHIO-AMERICAN MEDICAL TRAININGS( CPD ) &amp; HEAL...</td>\n",
       "      <td>EAHCI</td>\n",
       "      <td>የስልጠና ጥሪ በወሎ ደሴ(Basic Obstetrics Ultrasound )-...</td>\n",
       "      <td>2500.0</td>\n",
       "      <td>2021-04-10 16:10:15+00:00</td>\n",
       "      <td>[]</td>\n",
       "      <td>[]</td>\n",
       "      <td>Telegram</td>\n",
       "    </tr>\n",
       "  </tbody>\n",
       "</table>\n",
       "</div>"
      ],
      "text/plain": [
       "    post_id                                       channel_name  \\\n",
       "4   EAHCI_8  ETHIO-AMERICAN MEDICAL TRAININGS( CPD ) & HEAL...   \n",
       "6  EAHCI_10  ETHIO-AMERICAN MEDICAL TRAININGS( CPD ) & HEAL...   \n",
       "7  EAHCI_11  ETHIO-AMERICAN MEDICAL TRAININGS( CPD ) & HEAL...   \n",
       "8  EAHCI_12  ETHIO-AMERICAN MEDICAL TRAININGS( CPD ) & HEAL...   \n",
       "9  EAHCI_13  ETHIO-AMERICAN MEDICAL TRAININGS( CPD ) & HEAL...   \n",
       "\n",
       "  channel_username                                       message_text   views  \\\n",
       "4            EAHCI  አማራ ክልል ባህር_ዳር--------------------------------...  2200.0   \n",
       "6            EAHCI  https://m.facebook.com/groups/293768157845729/...  2300.0   \n",
       "7            EAHCI  የስልጠና ጥሪ በሐዋሳ ከተማ(Basic Obstetrics Ultrasound ...  2400.0   \n",
       "8            EAHCI  የስልጠና ጥሪ በአዲስ አበባ(Basic Obstetrics Ultrasound ...  2400.0   \n",
       "9            EAHCI  የስልጠና ጥሪ በወሎ ደሴ(Basic Obstetrics Ultrasound )-...  2500.0   \n",
       "\n",
       "                  timestamp image_urls image_paths    source  \n",
       "4 2021-04-01 15:19:59+00:00         []          []  Telegram  \n",
       "6 2021-04-04 10:58:11+00:00         []          []  Telegram  \n",
       "7 2021-04-04 18:38:48+00:00         []          []  Telegram  \n",
       "8 2021-04-09 12:03:09+00:00         []          []  Telegram  \n",
       "9 2021-04-10 16:10:15+00:00         []          []  Telegram  "
      ]
     },
     "execution_count": 5,
     "metadata": {},
     "output_type": "execute_result"
    }
   ],
   "source": [
    "\n",
    "\n",
    "cleaned_data = data_cleaner.clean_data()\n",
    "cleaned_data.head()\n"
   ]
  },
  {
   "cell_type": "code",
   "execution_count": 6,
   "metadata": {},
   "outputs": [
    {
     "name": "stdout",
     "output_type": "stream",
     "text": [
      "     post_id                                       message_text   views  \\\n",
      "42  EAHCI_66  Do you know ?we are among few Accredited priva...  3700.0   \n",
      "\n",
      "                                           image_urls  \\\n",
      "42  ['https://cdn4.cdn-telegram.org/file/CrAWc3_3q...   \n",
      "\n",
      "                                image_paths  \n",
      "42  ['../../data/tg_image\\\\EAHCI_66_0.jpg']  \n"
     ]
    }
   ],
   "source": [
    "# Assuming 'post_id' is a column in your DataFrame\n",
    "post_id_to_check = [\"EAHCI_66\"]  # Replace with actual post_id(s) you're looking for\n",
    "\n",
    "# Filter the cleaned data by the given post_id(s)\n",
    "filtered_data = cleaned_data[cleaned_data['post_id'].isin(post_id_to_check)]\n",
    "\n",
    "# Display specific columns of interest (e.g., 'message_text', 'views', 'image_urls', etc.)\n",
    "filtered_data_fields = filtered_data[['post_id', 'message_text', 'views', 'image_urls', 'image_paths']]\n",
    "\n",
    "# Show the filtered result\n",
    "print(filtered_data_fields)\n"
   ]
  },
  {
   "cell_type": "code",
   "execution_count": 7,
   "metadata": {},
   "outputs": [
    {
     "name": "stderr",
     "output_type": "stream",
     "text": [
      "2024-10-11 14:23:11,019 - INFO - Database connection established.\n"
     ]
    }
   ],
   "source": [
    "from database_connection import DatabaseConnection\n",
    "\n",
    "\n",
    "db_conn = DatabaseConnection()\n",
    "# Connect to the database\n",
    "db_conn.connect()\n"
   ]
  },
  {
   "cell_type": "code",
   "execution_count": 8,
   "metadata": {},
   "outputs": [
    {
     "name": "stderr",
     "output_type": "stream",
     "text": [
      "2024-10-11 14:23:11,038 - INFO - Table 'cleaned_data' created successfully.\n",
      "2024-10-11 14:23:11,043 - INFO - Inserting data: post_id=EAHCI_8, message_text=አማራ ክልል ባህር_ዳር----------------------------------------------------------------የስልጠና ጥሪለ ጠቅላላ ሀኪሞችና (GP)IESPS(IESO)Basic Obstetrics ultrasound ስልጠና በአማራ ክልል#ባህር_ዳርከተማ ከቀን መጋቢት 28/7/13 -ሚያዝያ 2/8/13 አ.ም በ#Homelandhotel እና  በተመረጡ ሆስፒታሎች የሚሰጥ ስለሆነ እንድትመዘገቡ እናሳስባለን።አዘጋጅ =Ethio-American Health & related Insti. & Stakeholders .#የምዝገባ_ቦታ :ሆምላንድ ሆቴል በአካል በመምጣት እስከ ቅዳሜ  ቀን 25/7/13 ድረስወይም  በስልክ ቁጥሮች Call 0941038774office 0462124400 በመደወል, views=2200.0, timestamp=2021-04-01 15:19:59+00:00, image_urls={}, image_paths={}\n",
      "2024-10-11 14:23:11,045 - ERROR - Error inserting cleaned data: not all arguments converted during string formatting\n",
      "2024-10-11 14:23:11,046 - WARNING - Transaction rolled back.\n"
     ]
    }
   ],
   "source": [
    "# Initialize the data storage class\n",
    "from data_storage.data_storage import DataStorage\n",
    "\n",
    "\n",
    "data_storage = DataStorage(db_conn)\n",
    "\n",
    "# Create the table if it doesn't exist\n",
    "data_storage.create_table()\n",
    "\n",
    "# Assuming `cleaned_data` is your cleaned DataFrame, insert it into the database\n",
    "data_storage.store_cleaned_data(cleaned_data)"
   ]
  }
 ],
 "metadata": {
  "kernelspec": {
   "display_name": ".venv",
   "language": "python",
   "name": "python3"
  },
  "language_info": {
   "codemirror_mode": {
    "name": "ipython",
    "version": 3
   },
   "file_extension": ".py",
   "mimetype": "text/x-python",
   "name": "python",
   "nbconvert_exporter": "python",
   "pygments_lexer": "ipython3",
   "version": "3.12.0"
  }
 },
 "nbformat": 4,
 "nbformat_minor": 2
}

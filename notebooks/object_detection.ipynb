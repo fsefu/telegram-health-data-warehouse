{
 "cells": [
  {
   "cell_type": "code",
   "execution_count": 1,
   "metadata": {},
   "outputs": [],
   "source": [
    "# Import pandas\n",
    "import os\n",
    "import sys\n",
    "sys.path.append(os.path.abspath(os.path.join(os.getcwd(), '../src')))\n",
    "sys.path.append(os.path.abspath(os.path.join(os.getcwd(), '../database')))\n"
   ]
  },
  {
   "cell_type": "code",
   "execution_count": 2,
   "metadata": {},
   "outputs": [],
   "source": [
    "# Initialize DatabaseConnection (handles .env file, connection, and cursor management)\n",
    "from database_connection import DatabaseConnection\n",
    "\n",
    "\n",
    "db_conn = DatabaseConnection()\n",
    "db_conn.connect()  # Establish the connection\n"
   ]
  },
  {
   "cell_type": "code",
   "execution_count": 3,
   "metadata": {},
   "outputs": [],
   "source": [
    "\n",
    "# Initialize the DatabaseHandler with the existing connection\n",
    "from database_handler import DatabaseHandler\n",
    "\n",
    "\n",
    "db_handler = DatabaseHandler(db_conn)\n"
   ]
  },
  {
   "cell_type": "code",
   "execution_count": 4,
   "metadata": {},
   "outputs": [],
   "source": [
    "\n",
    "# # Initialize YOLODetector\n",
    "# from object_detection.object_detections import YOLODetector\n",
    "\n",
    "\n",
    "# yolo_detector = YOLODetector(model_name='yolov5s')\n",
    "# # Run the YOLO detector and store the results in the database\n",
    "# image_folder = '../data/tg_image'\n",
    "# yolo_detector.run(image_folder, db_handler)\n",
    "\n",
    "# # After everything is done, you can disconnect the database connection\n",
    "# db_conn.disconnect()\n",
    "\n"
   ]
  },
  {
   "cell_type": "code",
   "execution_count": null,
   "metadata": {},
   "outputs": [],
   "source": [
    "# Initialize YOLODetector\n",
    "from object_detection.object_detections import YOLODetector\n",
    "\n",
    "# Initialize the YOLO detector with the desired model\n",
    "yolo_detector = YOLODetector(model_name='yolov5s')\n",
    "\n",
    "# Define paths\n",
    "image_folder = '../data/tg_image'  # Folder where the images to process are located\n",
    "save_path = '../data/processed_images'  # Folder where annotated images will be saved\n",
    "\n",
    "# Run the YOLO detector, store results in the database, and save images with bounding boxes\n",
    "yolo_detector.run(image_folder, db_handler, save_path=save_path)\n",
    "\n",
    "# After everything is done, you can disconnect the database connection\n",
    "db_conn.disconnect()\n"
   ]
  }
 ],
 "metadata": {
  "kernelspec": {
   "display_name": ".venv",
   "language": "python",
   "name": "python3"
  },
  "language_info": {
   "codemirror_mode": {
    "name": "ipython",
    "version": 3
   },
   "file_extension": ".py",
   "mimetype": "text/x-python",
   "name": "python",
   "nbconvert_exporter": "python",
   "pygments_lexer": "ipython3",
   "version": "3.12.0"
  }
 },
 "nbformat": 4,
 "nbformat_minor": 2
}
